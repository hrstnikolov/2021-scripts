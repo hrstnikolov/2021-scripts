{
 "cells": [
  {
   "cell_type": "code",
   "execution_count": 5,
   "id": "9fbe973a-6a49-490e-a376-31c13479d16e",
   "metadata": {},
   "outputs": [],
   "source": [
    "from pdf2image import convert_from_path\n",
    "from pathlib import Path"
   ]
  },
  {
   "cell_type": "markdown",
   "id": "44a726aa-10df-435a-8426-5f61343498b9",
   "metadata": {},
   "source": [
    "# Convert PDFs to Images"
   ]
  },
  {
   "cell_type": "code",
   "execution_count": 108,
   "id": "07bc4441-69c3-43ef-8d23-36ad0bc93bd9",
   "metadata": {},
   "outputs": [],
   "source": [
    "DESKTOP = Path().home() / 'Desktop'\n",
    "PDF_DIR = DESKTOP / 'PDFs' \n",
    "JUPYTER_BOOK_FOLDER = DESKTOP / 'ai-study-notes' / 'handwritten'"
   ]
  },
  {
   "cell_type": "markdown",
   "id": "05178afb-d836-4ede-91b4-6b450d7137b5",
   "metadata": {},
   "source": [
    "## Convert pdfs to images"
   ]
  },
  {
   "cell_type": "code",
   "execution_count": 105,
   "id": "21b5a6b9-45fa-4a82-9e17-5b01a960fb86",
   "metadata": {},
   "outputs": [],
   "source": [
    "def is_pdf(file):\n",
    "        return file.suffix == '.pdf'\n",
    "\n",
    "def convert_pdfs(directory):\n",
    "    \"\"\"Convert pdf to png and save it.\"\"\"\n",
    "    image_name = f'{f.stem}_{i:02d}.png'\n",
    "    for f in directory.glob('*'):\n",
    "        if is_pdf(f):\n",
    "            images = convert_from_path(f)\n",
    "            for i, image in enumerate(images):\n",
    "                filename = str(pdf_dir / f'{f.stem}_{i:02d}.png')\n",
    "                image.save(filename, 'PNG')\n",
    "            print(f'Completed {image.name}...')"
   ]
  },
  {
   "cell_type": "markdown",
   "id": "08f44953-d7e5-4b73-b466-fcc00ea99bbd",
   "metadata": {},
   "source": [
    "## Generate markdown files for JupyterBook"
   ]
  },
  {
   "cell_type": "code",
   "execution_count": 107,
   "id": "8f2978fb-cb91-477e-b26a-873f035c866d",
   "metadata": {},
   "outputs": [
    {
     "data": {
      "text/plain": [
       "[WindowsPath('C:/Users/a1056968/Desktop/ai-study-notes/handwritten/coef-of-determination.md'),\n",
       " WindowsPath('C:/Users/a1056968/Desktop/ai-study-notes/handwritten/cross-entropy.md')]"
      ]
     },
     "execution_count": 107,
     "metadata": {},
     "output_type": "execute_result"
    }
   ],
   "source": [
    "# Generate markdown file paths\n",
    "\n",
    "def get_files(directory, file_extension): \n",
    "    return [file \n",
    "            for file in directory.glob('**/*')\n",
    "            if file.suffix == file_extension]\n",
    "\n",
    "pdfs = get_files(PDF_DIR, '.pdf')\n",
    "md_files = [JUPYTER_BOOK_FOLDER / f'{pdf.stem}.md' for pdf in pdfs]\n",
    "md_files[:2]"
   ]
  },
  {
   "cell_type": "code",
   "execution_count": 124,
   "id": "c5fa33c6-5bdf-4a88-aecc-795c3b61c708",
   "metadata": {},
   "outputs": [],
   "source": [
    "# Templates for markdown\n",
    "start = \"\"\"# {heading}\n",
    "\n",
    "````{{div}} full-width\\n\"\"\"\n",
    "\n",
    "single_image = \"\"\"```{{image}} {image_name}\n",
    ":width: 1500 px\n",
    "```\\n\"\"\"\n",
    "\n",
    "end = '````'"
   ]
  },
  {
   "cell_type": "code",
   "execution_count": 125,
   "id": "0806398d-ef7d-43a2-a5c7-2918d62f42f0",
   "metadata": {},
   "outputs": [],
   "source": [
    "def filter_images(md_file):\n",
    "    return [img \n",
    "            for img in md_file.parent.glob('*')\n",
    "            if img.suffix == '.png' and img.stem.startswith(md_file.stem)]\n",
    "\n",
    "def generate_markdowns(md_files):\n",
    "    for md_file in md_files:\n",
    "        images = filter_images(md_file)\n",
    "\n",
    "        with open(md_file, 'w') as f:\n",
    "            heading = md_file.stem.replace('-', ' ').capitalize()  \n",
    "            f.write(start.format(heading=heading))\n",
    "\n",
    "            for image in images:\n",
    "                f.write(single_image.format(directive = 'image', image_name = image.name))\n",
    "\n",
    "            f.write(end)"
   ]
  },
  {
   "cell_type": "code",
   "execution_count": 126,
   "id": "32c1f1be-fd84-4364-bb61-c1baa8977d42",
   "metadata": {},
   "outputs": [],
   "source": [
    "generate_markdowns(md_files)"
   ]
  },
  {
   "cell_type": "code",
   "execution_count": 123,
   "id": "1e41f283-ff66-43c1-8ff8-a1022d8fa00b",
   "metadata": {},
   "outputs": [
    {
     "name": "stdout",
     "output_type": "stream",
     "text": [
      "  - file: handwritten/coef-of-determination\n",
      "  - file: handwritten/cross-entropy\n",
      "  - file: handwritten/epochs-batches-trainingsteps\n",
      "  - file: handwritten/error\n",
      "  - file: handwritten/information-gain\n",
      "  - file: handwritten/linear-regression\n",
      "  - file: handwritten/mae-mse-rmse\n",
      "  - file: handwritten/metrics\n",
      "  - file: handwritten/neural-networks\n",
      "  - file: handwritten/pca-basic-intuition\n",
      "  - file: handwritten/probability\n",
      "  - file: handwritten/sparsity\n",
      "  - file: handwritten/squared-loss\n",
      "  - file: handwritten/variation\n"
     ]
    },
    {
     "data": {
      "text/plain": [
       "[None,\n",
       " None,\n",
       " None,\n",
       " None,\n",
       " None,\n",
       " None,\n",
       " None,\n",
       " None,\n",
       " None,\n",
       " None,\n",
       " None,\n",
       " None,\n",
       " None,\n",
       " None]"
      ]
     },
     "execution_count": 123,
     "metadata": {},
     "output_type": "execute_result"
    }
   ],
   "source": [
    "# Print a list for _toc.yml\n",
    "[print(f'  - file: handwritten/{f.stem}')\n",
    " for f in md_files]"
   ]
  }
 ],
 "metadata": {
  "kernelspec": {
   "display_name": "Python 3 (ipykernel)",
   "language": "python",
   "name": "python3"
  },
  "language_info": {
   "codemirror_mode": {
    "name": "ipython",
    "version": 3
   },
   "file_extension": ".py",
   "mimetype": "text/x-python",
   "name": "python",
   "nbconvert_exporter": "python",
   "pygments_lexer": "ipython3",
   "version": "3.9.0"
  }
 },
 "nbformat": 4,
 "nbformat_minor": 5
}
