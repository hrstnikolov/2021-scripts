{
 "cells": [
  {
   "cell_type": "code",
   "execution_count": 113,
   "id": "d5e5cb8a",
   "metadata": {},
   "outputs": [],
   "source": [
    "import matplotlib.pyplot as plt\n",
    "\n",
    "from pyautogui import screenshot, click, scroll, moveTo\n",
    "from datetime import datetime\n",
    "from time import sleep\n",
    "from pathlib import Path\n",
    "from PIL import Image"
   ]
  },
  {
   "cell_type": "markdown",
   "id": "20e39154",
   "metadata": {},
   "source": [
    "# Automatic screenshots"
   ]
  },
  {
   "cell_type": "markdown",
   "id": "666224d5",
   "metadata": {},
   "source": [
    "## Generate screenshots"
   ]
  },
  {
   "cell_type": "code",
   "execution_count": 105,
   "id": "600884cf",
   "metadata": {},
   "outputs": [],
   "source": [
    "# Positions on the screen\n",
    "nextpage_button = (70, 160)\n",
    "screenshot_topleft = (270, 155)\n",
    "screenshot_bottomright = (1520, 1000)\n",
    "\n",
    "pages_count = 176\n",
    "\n",
    "# Directories\n",
    "desktop = Path().home() / 'Desktop'\n",
    "output_dir = desktop / 'DFSS presentation 2'"
   ]
  },
  {
   "cell_type": "code",
   "execution_count": 106,
   "id": "37073315",
   "metadata": {},
   "outputs": [],
   "source": [
    "# left, top, width, right\n",
    "screenshot_region = (\n",
    "    screenshot_topleft[0],\n",
    "    screenshot_topleft[1],\n",
    "    screenshot_bottomright[0] - screenshot_topleft[0],\n",
    "    screenshot_bottomright[1] - screenshot_topleft[1],\n",
    ")"
   ]
  },
  {
   "cell_type": "code",
   "execution_count": 119,
   "id": "1ce97030",
   "metadata": {},
   "outputs": [],
   "source": [
    "output_dir.mkdir(exist_ok=True)\n",
    "\n",
    "def get_timestamp_filename(output_dir, file_extension):\n",
    "    now = datetime.now()\n",
    "    image_filename = now.strftime('%Y-%m-%d %H-%M-%S-%f') + file_extension\n",
    "    return str(output_dir / image_filename)"
   ]
  },
  {
   "cell_type": "code",
   "execution_count": 112,
   "id": "044f515f",
   "metadata": {},
   "outputs": [],
   "source": [
    "for _ in range(176):\n",
    "    moveTo(x=1000, y=1000)\n",
    "    scroll(100) \n",
    "    filename = get_timestamp_filename(output_dir, '.png')\n",
    "    image = screenshot(\n",
    "        imageFilename=filename,\n",
    "        region=(screenshot_region),\n",
    "    )\n",
    "    time.sleep(1)\n",
    "    click(x=nextpage_button[0], y=nextpage_button[1])"
   ]
  },
  {
   "cell_type": "markdown",
   "id": "7899dc40",
   "metadata": {},
   "source": [
    "## Combine all images in a pdf"
   ]
  },
  {
   "cell_type": "code",
   "execution_count": 127,
   "id": "e5eab536",
   "metadata": {},
   "outputs": [],
   "source": [
    "PDF_PATH = get_timestamp_filename(output_dir, '.pdf')"
   ]
  },
  {
   "cell_type": "code",
   "execution_count": 129,
   "id": "b747f2dd",
   "metadata": {},
   "outputs": [],
   "source": [
    "images = [Image.open(f) for f in output_dir.rglob('*') if f.is_file()]\n",
    "images[0].save(\n",
    "    PDF_PATH, \"PDF\" ,resolution=100.0, save_all=True, append_images=images[1:]\n",
    ")"
   ]
  },
  {
   "cell_type": "code",
   "execution_count": null,
   "id": "d9688a88",
   "metadata": {},
   "outputs": [],
   "source": []
  }
 ],
 "metadata": {
  "kernelspec": {
   "display_name": "Python 3 (ipykernel)",
   "language": "python",
   "name": "python3"
  },
  "language_info": {
   "codemirror_mode": {
    "name": "ipython",
    "version": 3
   },
   "file_extension": ".py",
   "mimetype": "text/x-python",
   "name": "python",
   "nbconvert_exporter": "python",
   "pygments_lexer": "ipython3",
   "version": "3.9.0"
  }
 },
 "nbformat": 4,
 "nbformat_minor": 5
}
